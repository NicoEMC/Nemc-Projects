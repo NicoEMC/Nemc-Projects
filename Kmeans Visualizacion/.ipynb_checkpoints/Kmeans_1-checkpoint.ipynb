{
 "cells": [
  {
   "cell_type": "markdown",
   "id": "a66f85e2",
   "metadata": {},
   "source": [
    "# Implementación y visualización Kmeans en 2D"
   ]
  },
  {
   "cell_type": "code",
   "execution_count": 1,
   "id": "5bceb516",
   "metadata": {},
   "outputs": [],
   "source": [
    "import pandas as pd\n",
    "import matplotlib.pyplot as plt\n",
    "import seaborn as sns\n",
    "import numpy as np\n",
    "import scipy as sp\n",
    "\n",
    "import scipy.stats\n",
    "from sklearn.cluster import KMeans\n"
   ]
  },
  {
   "cell_type": "code",
   "execution_count": 2,
   "id": "635ccc23",
   "metadata": {},
   "outputs": [],
   "source": [
    "%config IPCompleter.greedy = True\n",
    "import warnings\n",
    "warnings.simplefilter(action='ignore', category=FutureWarning)"
   ]
  },
  {
   "cell_type": "code",
   "execution_count": 39,
   "id": "a8e94876",
   "metadata": {},
   "outputs": [],
   "source": [
    "df = pd.read_csv(\"kmeans_1.csv\")"
   ]
  },
  {
   "cell_type": "code",
   "execution_count": 40,
   "id": "b86ab035",
   "metadata": {},
   "outputs": [
    {
     "data": {
      "text/html": [
       "<div>\n",
       "<style scoped>\n",
       "    .dataframe tbody tr th:only-of-type {\n",
       "        vertical-align: middle;\n",
       "    }\n",
       "\n",
       "    .dataframe tbody tr th {\n",
       "        vertical-align: top;\n",
       "    }\n",
       "\n",
       "    .dataframe thead th {\n",
       "        text-align: right;\n",
       "    }\n",
       "</style>\n",
       "<table border=\"1\" class=\"dataframe\">\n",
       "  <thead>\n",
       "    <tr style=\"text-align: right;\">\n",
       "      <th></th>\n",
       "      <th>X</th>\n",
       "      <th>Y</th>\n",
       "    </tr>\n",
       "  </thead>\n",
       "  <tbody>\n",
       "    <tr>\n",
       "      <th>0</th>\n",
       "      <td>-3.184130</td>\n",
       "      <td>-3.536314</td>\n",
       "    </tr>\n",
       "    <tr>\n",
       "      <th>1</th>\n",
       "      <td>-2.733986</td>\n",
       "      <td>-1.697214</td>\n",
       "    </tr>\n",
       "    <tr>\n",
       "      <th>2</th>\n",
       "      <td>-1.425085</td>\n",
       "      <td>-0.209609</td>\n",
       "    </tr>\n",
       "    <tr>\n",
       "      <th>3</th>\n",
       "      <td>-3.141817</td>\n",
       "      <td>-3.699481</td>\n",
       "    </tr>\n",
       "    <tr>\n",
       "      <th>4</th>\n",
       "      <td>-1.793601</td>\n",
       "      <td>-1.057569</td>\n",
       "    </tr>\n",
       "    <tr>\n",
       "      <th>...</th>\n",
       "      <td>...</td>\n",
       "      <td>...</td>\n",
       "    </tr>\n",
       "    <tr>\n",
       "      <th>395</th>\n",
       "      <td>11.956448</td>\n",
       "      <td>12.425121</td>\n",
       "    </tr>\n",
       "    <tr>\n",
       "      <th>396</th>\n",
       "      <td>10.739713</td>\n",
       "      <td>12.317352</td>\n",
       "    </tr>\n",
       "    <tr>\n",
       "      <th>397</th>\n",
       "      <td>11.819767</td>\n",
       "      <td>13.338702</td>\n",
       "    </tr>\n",
       "    <tr>\n",
       "      <th>398</th>\n",
       "      <td>11.699919</td>\n",
       "      <td>12.355441</td>\n",
       "    </tr>\n",
       "    <tr>\n",
       "      <th>399</th>\n",
       "      <td>13.505401</td>\n",
       "      <td>13.049473</td>\n",
       "    </tr>\n",
       "  </tbody>\n",
       "</table>\n",
       "<p>400 rows × 2 columns</p>\n",
       "</div>"
      ],
      "text/plain": [
       "             X          Y\n",
       "0    -3.184130  -3.536314\n",
       "1    -2.733986  -1.697214\n",
       "2    -1.425085  -0.209609\n",
       "3    -3.141817  -3.699481\n",
       "4    -1.793601  -1.057569\n",
       "..         ...        ...\n",
       "395  11.956448  12.425121\n",
       "396  10.739713  12.317352\n",
       "397  11.819767  13.338702\n",
       "398  11.699919  12.355441\n",
       "399  13.505401  13.049473\n",
       "\n",
       "[400 rows x 2 columns]"
      ]
     },
     "execution_count": 40,
     "metadata": {},
     "output_type": "execute_result"
    }
   ],
   "source": [
    "df"
   ]
  },
  {
   "cell_type": "code",
   "execution_count": 41,
   "id": "3afb8f6a",
   "metadata": {},
   "outputs": [
    {
     "name": "stdout",
     "output_type": "stream",
     "text": [
      "<class 'pandas.core.frame.DataFrame'>\n",
      "RangeIndex: 400 entries, 0 to 399\n",
      "Data columns (total 2 columns):\n",
      " #   Column  Non-Null Count  Dtype  \n",
      "---  ------  --------------  -----  \n",
      " 0   X       400 non-null    float64\n",
      " 1   Y       400 non-null    float64\n",
      "dtypes: float64(2)\n",
      "memory usage: 6.4 KB\n"
     ]
    }
   ],
   "source": [
    "### Visualizamos la información del dataset\n",
    "df.info()"
   ]
  },
  {
   "cell_type": "code",
   "execution_count": 42,
   "id": "1bad2c45",
   "metadata": {},
   "outputs": [
    {
     "name": "stdout",
     "output_type": "stream",
     "text": [
      "X: 0\n",
      "Y: 0\n"
     ]
    }
   ],
   "source": [
    "### Valores nulos\n",
    "for i in df.columns:\n",
    "    print(i+': '+str(df[i].isnull().sum()))"
   ]
  },
  {
   "cell_type": "code",
   "execution_count": 43,
   "id": "d0d7b26d",
   "metadata": {},
   "outputs": [
    {
     "data": {
      "text/html": [
       "<div>\n",
       "<style scoped>\n",
       "    .dataframe tbody tr th:only-of-type {\n",
       "        vertical-align: middle;\n",
       "    }\n",
       "\n",
       "    .dataframe tbody tr th {\n",
       "        vertical-align: top;\n",
       "    }\n",
       "\n",
       "    .dataframe thead th {\n",
       "        text-align: right;\n",
       "    }\n",
       "</style>\n",
       "<table border=\"1\" class=\"dataframe\">\n",
       "  <thead>\n",
       "    <tr style=\"text-align: right;\">\n",
       "      <th></th>\n",
       "      <th>X</th>\n",
       "      <th>Y</th>\n",
       "    </tr>\n",
       "  </thead>\n",
       "  <tbody>\n",
       "    <tr>\n",
       "      <th>count</th>\n",
       "      <td>400.000000</td>\n",
       "      <td>400.000000</td>\n",
       "    </tr>\n",
       "    <tr>\n",
       "      <th>mean</th>\n",
       "      <td>6.115438</td>\n",
       "      <td>6.081052</td>\n",
       "    </tr>\n",
       "    <tr>\n",
       "      <th>std</th>\n",
       "      <td>5.455048</td>\n",
       "      <td>5.516247</td>\n",
       "    </tr>\n",
       "    <tr>\n",
       "      <th>min</th>\n",
       "      <td>-4.574359</td>\n",
       "      <td>-4.467846</td>\n",
       "    </tr>\n",
       "    <tr>\n",
       "      <th>25%</th>\n",
       "      <td>2.278986</td>\n",
       "      <td>1.759130</td>\n",
       "    </tr>\n",
       "    <tr>\n",
       "      <th>50%</th>\n",
       "      <td>7.077546</td>\n",
       "      <td>6.678634</td>\n",
       "    </tr>\n",
       "    <tr>\n",
       "      <th>75%</th>\n",
       "      <td>10.752682</td>\n",
       "      <td>10.449149</td>\n",
       "    </tr>\n",
       "    <tr>\n",
       "      <th>max</th>\n",
       "      <td>15.875112</td>\n",
       "      <td>15.130608</td>\n",
       "    </tr>\n",
       "  </tbody>\n",
       "</table>\n",
       "</div>"
      ],
      "text/plain": [
       "                X           Y\n",
       "count  400.000000  400.000000\n",
       "mean     6.115438    6.081052\n",
       "std      5.455048    5.516247\n",
       "min     -4.574359   -4.467846\n",
       "25%      2.278986    1.759130\n",
       "50%      7.077546    6.678634\n",
       "75%     10.752682   10.449149\n",
       "max     15.875112   15.130608"
      ]
     },
     "execution_count": 43,
     "metadata": {},
     "output_type": "execute_result"
    }
   ],
   "source": [
    "### Resumen de Información\n",
    "df.describe()"
   ]
  },
  {
   "cell_type": "code",
   "execution_count": 45,
   "id": "91a58644",
   "metadata": {},
   "outputs": [
    {
     "data": {
      "image/png": "[encoded data removed]",
      "text/plain": [
       "<Figure size 864x576 with 1 Axes>"
      ]
     },
     "metadata": {
      "needs_background": "light"
     },
     "output_type": "display_data"
    }
   ],
   "source": [
    "### Visualizamos la distribución de los datos mediante un Scatter plot\n",
    "plt.figure(figsize=(12,8))\n",
    "plt.scatter(data = df, x = \"X\",y = \"Y\", color=\"blue\")\n",
    "plt.ylabel(\"Y\")\n",
    "plt.xlabel(\"X\")\n",
    "plt.show()"
   ]
  },
  {
   "cell_type": "markdown",
   "id": "2aedc89f",
   "metadata": {},
   "source": [
    "A simple vista se visualizan 4 Clusters, en donde podemos ver que a medida que aumenta el B tambien aumenta el A o viceversa "
   ]
  },
  {
   "cell_type": "code",
   "execution_count": 46,
   "id": "0f268367",
   "metadata": {},
   "outputs": [
    {
     "data": {
      "text/plain": [
       "KMeans(n_clusters=4)"
      ]
     },
     "execution_count": 46,
     "metadata": {},
     "output_type": "execute_result"
    }
   ],
   "source": [
    "### Probaremos utilizar el metodo de K medias con 4 clusters\n",
    "k_means = KMeans(n_clusters=4)\n",
    "k_means.fit(df)"
   ]
  },
  {
   "cell_type": "code",
   "execution_count": 47,
   "id": "313b7502",
   "metadata": {},
   "outputs": [
    {
     "data": {
      "text/plain": [
       "array([[ 8.61652662,  8.49416318],\n",
       "       [-2.02060942, -2.06537343],\n",
       "       [ 5.32221535,  5.2002277 ],\n",
       "       [12.58328636, 12.73762716]])"
      ]
     },
     "execution_count": 47,
     "metadata": {},
     "output_type": "execute_result"
    }
   ],
   "source": [
    "### Visualizamos la coordenada del centro de cada Cluster\n",
    "k_means.cluster_centers_"
   ]
  },
  {
   "cell_type": "code",
   "execution_count": 48,
   "id": "4fa2fab2",
   "metadata": {},
   "outputs": [
    {
     "data": {
      "text/plain": [
       "array([1, 1, 1, 1, 1, 1, 1, 1, 1, 1, 1, 1, 1, 1, 1, 1, 1, 1, 1, 1, 1, 1,\n",
       "       1, 1, 1, 1, 1, 1, 1, 1, 1, 1, 1, 1, 1, 1, 1, 1, 1, 1, 1, 1, 1, 1,\n",
       "       1, 1, 1, 1, 1, 1, 1, 1, 1, 1, 1, 1, 1, 1, 1, 1, 1, 1, 1, 1, 1, 1,\n",
       "       1, 1, 1, 1, 1, 1, 1, 1, 1, 1, 1, 1, 1, 1, 1, 1, 1, 1, 1, 1, 1, 1,\n",
       "       1, 1, 1, 1, 1, 1, 1, 1, 1, 1, 1, 1, 0, 0, 0, 0, 0, 0, 0, 0, 0, 0,\n",
       "       0, 0, 0, 0, 0, 0, 0, 0, 0, 0, 0, 0, 0, 2, 0, 0, 0, 0, 0, 0, 0, 0,\n",
       "       0, 0, 0, 0, 0, 0, 0, 0, 0, 0, 0, 0, 0, 0, 0, 0, 0, 0, 0, 0, 0, 0,\n",
       "       0, 0, 0, 0, 0, 0, 0, 0, 0, 0, 0, 0, 0, 0, 0, 0, 0, 0, 0, 0, 0, 0,\n",
       "       0, 0, 0, 0, 0, 0, 0, 0, 0, 0, 0, 0, 0, 0, 0, 0, 0, 0, 0, 0, 0, 0,\n",
       "       0, 0, 2, 2, 2, 2, 2, 2, 2, 2, 2, 2, 2, 2, 2, 2, 2, 2, 2, 2, 2, 2,\n",
       "       2, 2, 2, 2, 2, 2, 2, 2, 2, 2, 2, 2, 2, 2, 2, 2, 2, 2, 2, 2, 2, 2,\n",
       "       2, 2, 2, 2, 2, 2, 2, 2, 2, 2, 2, 2, 2, 2, 2, 2, 2, 2, 2, 2, 2, 2,\n",
       "       2, 2, 2, 2, 2, 2, 2, 2, 2, 2, 2, 2, 2, 2, 2, 2, 2, 2, 2, 2, 2, 2,\n",
       "       2, 2, 2, 2, 2, 2, 2, 2, 2, 2, 0, 2, 2, 2, 3, 3, 3, 3, 3, 3, 3, 3,\n",
       "       3, 3, 3, 3, 3, 3, 3, 3, 3, 3, 3, 3, 3, 3, 3, 3, 3, 3, 3, 3, 3, 3,\n",
       "       3, 3, 3, 3, 3, 3, 3, 3, 3, 3, 3, 3, 3, 3, 3, 3, 3, 3, 3, 3, 3, 3,\n",
       "       3, 3, 3, 3, 3, 3, 3, 3, 3, 3, 3, 3, 3, 3, 3, 3, 3, 3, 3, 3, 3, 0,\n",
       "       3, 3, 3, 3, 3, 3, 3, 3, 3, 3, 3, 3, 3, 3, 3, 3, 3, 3, 3, 3, 3, 3,\n",
       "       3, 3, 3, 3])"
      ]
     },
     "execution_count": 48,
     "metadata": {},
     "output_type": "execute_result"
    }
   ],
   "source": [
    "### Mostramos las etiquetas\n",
    "k_means.labels_"
   ]
  },
  {
   "cell_type": "code",
   "execution_count": 50,
   "id": "6d4f87e6",
   "metadata": {},
   "outputs": [
    {
     "data": {
      "text/plain": [
       "869.8739093873297"
      ]
     },
     "execution_count": 50,
     "metadata": {},
     "output_type": "execute_result"
    }
   ],
   "source": [
    "### inertia_ Nos muestra la suma de las distancias\n",
    "### al cuadrado desde cada punto al centroide del cluster más cercano\n",
    "k_means.inertia_"
   ]
  },
  {
   "cell_type": "code",
   "execution_count": 51,
   "id": "65a1665f",
   "metadata": {},
   "outputs": [
    {
     "name": "stderr",
     "output_type": "stream",
     "text": [
      "C:\\Users\\nmarq\\anaconda3\\lib\\site-packages\\sklearn\\cluster\\_kmeans.py:1036: UserWarning: KMeans is known to have a memory leak on Windows with MKL, when there are less chunks than available threads. You can avoid it by setting the environment variable OMP_NUM_THREADS=2.\n",
      "  warnings.warn(\n"
     ]
    }
   ],
   "source": [
    "### Guardamos la distancia intra cluster en un diccionario\n",
    "### Visualizaremos el número de clusters óptimo\n",
    "\n",
    "dic = {}\n",
    "for k in range(1,11):\n",
    "    kmeans = KMeans(n_clusters=k, max_iter=1000).fit(df)\n",
    "    dic[k] = kmeans.inertia_"
   ]
  },
  {
   "cell_type": "code",
   "execution_count": 52,
   "id": "bcc9019a",
   "metadata": {},
   "outputs": [
    {
     "data": {
      "text/plain": [
       "{1: 24014.42675603128,\n",
       " 2: 6315.372626899548,\n",
       " 3: 1911.712161673669,\n",
       " 4: 869.8739093873297,\n",
       " 5: 789.2319716475774,\n",
       " 6: 713.4844242406173,\n",
       " 7: 633.8451512853579,\n",
       " 8: 562.6250934636305,\n",
       " 9: 510.0337550154989,\n",
       " 10: 464.67168245312484}"
      ]
     },
     "execution_count": 52,
     "metadata": {},
     "output_type": "execute_result"
    }
   ],
   "source": [
    "### Visualizamos nuestro diccionario\n",
    "dic"
   ]
  },
  {
   "cell_type": "code",
   "execution_count": 53,
   "id": "e6c698ee",
   "metadata": {},
   "outputs": [
    {
     "name": "stderr",
     "output_type": "stream",
     "text": [
      "C:\\Users\\nmarq\\anaconda3\\lib\\site-packages\\sklearn\\cluster\\_kmeans.py:1036: UserWarning: KMeans is known to have a memory leak on Windows with MKL, when there are less chunks than available threads. You can avoid it by setting the environment variable OMP_NUM_THREADS=2.\n",
      "  warnings.warn(\n"
     ]
    },
    {
     "data": {
      "image/png": "[encoded data removed]",
      "text/plain": [
       "<Figure size 864x576 with 1 Axes>"
      ]
     },
     "metadata": {
      "needs_background": "light"
     },
     "output_type": "display_data"
    }
   ],
   "source": [
    "### Generamos la gráfica para visualizar el Metodo del Codo\n",
    "sse = {}\n",
    "for k in range(1, 11):\n",
    "    kmeans = KMeans(n_clusters=k, max_iter=1000).fit(df)\n",
    "    sse[k] = kmeans.inertia_  #retorna la suma de las distancias al \n",
    "                              #cuadrado desde cada punto al centroide del cluster más cercano\n",
    "plt.figure(figsize=(12,8))\n",
    "plt.plot(list(dic.keys()), list(dic.values()))\n",
    "plt.xlabel(\"Número de clusters\")\n",
    "plt.ylabel(\"SSE\")\n",
    "plt.show()"
   ]
  },
  {
   "cell_type": "markdown",
   "id": "8e844b4f",
   "metadata": {},
   "source": [
    "Según el método del codo, podemos decir que 4 clusters es el punto de quiebre"
   ]
  },
  {
   "cell_type": "code",
   "execution_count": 54,
   "id": "a0ee96ca",
   "metadata": {},
   "outputs": [],
   "source": [
    "### Por lo que trabajaremos con 4 centroides, teniendo una etiqueta para cada cluster\n",
    "df[\"Clase\"] = k_means.labels_\n",
    "centroides = k_means.cluster_centers_"
   ]
  },
  {
   "cell_type": "code",
   "execution_count": 56,
   "id": "99722703",
   "metadata": {},
   "outputs": [
    {
     "data": {
      "image/png": "[encoded data removed]",
      "text/plain": [
       "<Figure size 864x576 with 1 Axes>"
      ]
     },
     "metadata": {
      "needs_background": "light"
     },
     "output_type": "display_data"
    }
   ],
   "source": [
    "### Generamos un plot con 4 colores para representar cada cluster\n",
    "color = ['r.', 'b.', 'y.', 'g.']\n",
    "plt.figure(figsize=(12,8))\n",
    "\n",
    "for i in range(0,4):\n",
    "    plt.plot(df[\"X\"][df[\"Clase\"]==i],df[\"Y\"][df[\"Clase\"]==i],color[i])\n",
    "\n",
    "### plot de todos los [datos,X] y todos los [datos, Y] del centroide\n",
    "plt.plot(centroides[:,0],centroides[:,1],'mo',markersize=9, label='centroides')\n",
    "\n",
    "\n",
    "plt.show()"
   ]
  },
  {
   "cell_type": "code",
   "execution_count": null,
   "id": "3f08ab7a",
   "metadata": {},
   "outputs": [],
   "source": []
  }
 ],
 "metadata": {
  "kernelspec": {
   "display_name": "Python 3",
   "language": "python",
   "name": "python3"
  },
  "language_info": {
   "codemirror_mode": {
    "name": "ipython",
    "version": 3
   },
   "file_extension": ".py",
   "mimetype": "text/x-python",
   "name": "python",
   "nbconvert_exporter": "python",
   "pygments_lexer": "ipython3",
   "version": "3.8.8"
  }
 },
 "nbformat": 4,
 "nbformat_minor": 5
}
