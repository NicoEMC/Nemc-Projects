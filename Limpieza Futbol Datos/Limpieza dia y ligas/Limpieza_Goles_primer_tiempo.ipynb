{
 "cells": [
  {
   "cell_type": "markdown",
   "metadata": {},
   "source": [
    "# Proyecto Limpieza de CSV "
   ]
  },
  {
   "attachments": {
    "Imagen1.PNG": {
     "image/png": "[encoded data removed]"
    }
   },
   "cell_type": "markdown",
   "metadata": {},
   "source": [
    "El proyecto comienza con la obtención de datos en una página con este formato:\n",
    "\n",
    "+ <img src=\"config\\screenshots\\Imagen0.PNG\" width=\"680px\" />\n",
    "\n",
    "El problema surge cuando al obtener los datos, estos vienen en un formato no deseado, tal como se observa en las siguientes imagenes:\n",
    "\n",
    "![Imagen1.PNG](attachment:Imagen1.PNG)\n",
    "\n",
    "+ <img src=\"config\\screenshots\\Imagen2.PNG\" width=\"480px\" />"
   ]
  },
  {
   "cell_type": "markdown",
   "metadata": {},
   "source": [
    "## Objetivo\n",
    "\n",
    "Nuestro objetivo es lograr replicar la tabla que se encuentra alojada en la web, dentro de sus parametros tenemos que tiene 7 columnas y una infinidad de filas que contienen Fecha, Liga y Equipos"
   ]
  },
  {
   "cell_type": "markdown",
   "metadata": {},
   "source": [
    "## Procesamiento"
   ]
  },
  {
   "cell_type": "code",
   "execution_count": 2,
   "metadata": {},
   "outputs": [],
   "source": [
    "import pandas as pd\n",
    "#import time\n",
    "import datetime\n",
    "import openpyxl\n",
    "import os\n",
    "import warnings\n",
    "\n",
    "warnings.filterwarnings(\"ignore\")"
   ]
  },
  {
   "cell_type": "code",
   "execution_count": 3,
   "metadata": {},
   "outputs": [],
   "source": [
    "#fecha = datetime.date.today().strftime(\"%Y-%m-%d\")\n",
    "fecha = '2024-01-07'"
   ]
  },
  {
   "cell_type": "code",
   "execution_count": 4,
   "metadata": {},
   "outputs": [],
   "source": [
    "### Creamos un diccionario para poder iterar en futuras tablas nuevas\n",
    "archivos = [{'archivo':'goles_primer_tiempo_0_5'}]"
   ]
  },
  {
   "cell_type": "code",
   "execution_count": 5,
   "metadata": {},
   "outputs": [
    {
     "data": {
      "text/html": [
       "<div>\n",
       "<style scoped>\n",
       "    .dataframe tbody tr th:only-of-type {\n",
       "        vertical-align: middle;\n",
       "    }\n",
       "\n",
       "    .dataframe tbody tr th {\n",
       "        vertical-align: top;\n",
       "    }\n",
       "\n",
       "    .dataframe thead th {\n",
       "        text-align: right;\n",
       "    }\n",
       "</style>\n",
       "<table border=\"1\" class=\"dataframe\">\n",
       "  <thead>\n",
       "    <tr style=\"text-align: right;\">\n",
       "      <th></th>\n",
       "      <th>partidos</th>\n",
       "    </tr>\n",
       "  </thead>\n",
       "  <tbody>\n",
       "    <tr>\n",
       "      <th>0</th>\n",
       "      <td>Saturday 06 January, 2024\\nHome All Home Team ...</td>\n",
       "    </tr>\n",
       "  </tbody>\n",
       "</table>\n",
       "</div>"
      ],
      "text/plain": [
       "                                            partidos\n",
       "0  Saturday 06 January, 2024\\nHome All Home Team ..."
      ]
     },
     "execution_count": 5,
     "metadata": {},
     "output_type": "execute_result"
    }
   ],
   "source": [
    "### Abrimos el archivo csv\n",
    "gol_primer_tiempo = pd.read_csv(\"input/Estadisticas_goles_primer_tiempo_0_5_{}.csv\".format(fecha))\n",
    "gol_primer_tiempo.head()"
   ]
  },
  {
   "cell_type": "code",
   "execution_count": 7,
   "metadata": {},
   "outputs": [
    {
     "data": {
      "text/html": [
       "<div>\n",
       "<style scoped>\n",
       "    .dataframe tbody tr th:only-of-type {\n",
       "        vertical-align: middle;\n",
       "    }\n",
       "\n",
       "    .dataframe tbody tr th {\n",
       "        vertical-align: top;\n",
       "    }\n",
       "\n",
       "    .dataframe thead th {\n",
       "        text-align: right;\n",
       "    }\n",
       "</style>\n",
       "<table border=\"1\" class=\"dataframe\">\n",
       "  <thead>\n",
       "    <tr style=\"text-align: right;\">\n",
       "      <th></th>\n",
       "      <th>0</th>\n",
       "    </tr>\n",
       "  </thead>\n",
       "  <tbody>\n",
       "    <tr>\n",
       "      <th>0</th>\n",
       "      <td>Saturday 06 January, 2024</td>\n",
       "    </tr>\n",
       "    <tr>\n",
       "      <th>1</th>\n",
       "      <td>Home All Home Team KO Away Team All Away</td>\n",
       "    </tr>\n",
       "    <tr>\n",
       "      <th>2</th>\n",
       "      <td>National League</td>\n",
       "    </tr>\n",
       "    <tr>\n",
       "      <th>3</th>\n",
       "      <td>54% 69%</td>\n",
       "    </tr>\n",
       "    <tr>\n",
       "      <th>4</th>\n",
       "      <td>Boreham Wood</td>\n",
       "    </tr>\n",
       "  </tbody>\n",
       "</table>\n",
       "</div>"
      ],
      "text/plain": [
       "                                          0\n",
       "0                 Saturday 06 January, 2024\n",
       "1  Home All Home Team KO Away Team All Away\n",
       "2                           National League\n",
       "3                                   54% 69%\n",
       "4                              Boreham Wood"
      ]
     },
     "execution_count": 7,
     "metadata": {},
     "output_type": "execute_result"
    }
   ],
   "source": [
    "### Separamos la fila en filas \n",
    "separar_df_filas = gol_primer_tiempo['partidos'].str.split('\\n', expand=True).T\n",
    "separar_df_filas.head()"
   ]
  },
  {
   "cell_type": "markdown",
   "metadata": {},
   "source": [
    "Dentro de la tabla tenemos varios días por lo que necesitamos separar cada día en particular"
   ]
  },
  {
   "cell_type": "code",
   "execution_count": 9,
   "metadata": {},
   "outputs": [],
   "source": [
    "# Función para encontrar el día de la semana en una fila\n",
    "def encontrar_dia(fila):\n",
    "    dias = ['Monday', 'Tuesday', 'Wednesday', 'Thursday', 'Friday', 'Saturday', 'Sunday']\n",
    "    for dia in dias:\n",
    "        if dia in fila:\n",
    "            return dia\n",
    "    return None"
   ]
  },
  {
   "cell_type": "code",
   "execution_count": 10,
   "metadata": {},
   "outputs": [
    {
     "data": {
      "text/html": [
       "<div>\n",
       "<style scoped>\n",
       "    .dataframe tbody tr th:only-of-type {\n",
       "        vertical-align: middle;\n",
       "    }\n",
       "\n",
       "    .dataframe tbody tr th {\n",
       "        vertical-align: top;\n",
       "    }\n",
       "\n",
       "    .dataframe thead th {\n",
       "        text-align: right;\n",
       "    }\n",
       "</style>\n",
       "<table border=\"1\" class=\"dataframe\">\n",
       "  <thead>\n",
       "    <tr style=\"text-align: right;\">\n",
       "      <th></th>\n",
       "      <th>0</th>\n",
       "      <th>dia</th>\n",
       "    </tr>\n",
       "  </thead>\n",
       "  <tbody>\n",
       "    <tr>\n",
       "      <th>0</th>\n",
       "      <td>Saturday 06 January, 2024</td>\n",
       "      <td>Saturday</td>\n",
       "    </tr>\n",
       "    <tr>\n",
       "      <th>1</th>\n",
       "      <td>Home All Home Team KO Away Team All Away</td>\n",
       "      <td>None</td>\n",
       "    </tr>\n",
       "    <tr>\n",
       "      <th>2</th>\n",
       "      <td>National League</td>\n",
       "      <td>None</td>\n",
       "    </tr>\n",
       "    <tr>\n",
       "      <th>3</th>\n",
       "      <td>54% 69%</td>\n",
       "      <td>None</td>\n",
       "    </tr>\n",
       "    <tr>\n",
       "      <th>4</th>\n",
       "      <td>Boreham Wood</td>\n",
       "      <td>None</td>\n",
       "    </tr>\n",
       "    <tr>\n",
       "      <th>...</th>\n",
       "      <td>...</td>\n",
       "      <td>...</td>\n",
       "    </tr>\n",
       "    <tr>\n",
       "      <th>1040</th>\n",
       "      <td>50% 50%</td>\n",
       "      <td>None</td>\n",
       "    </tr>\n",
       "    <tr>\n",
       "      <th>1041</th>\n",
       "      <td>Gent</td>\n",
       "      <td>None</td>\n",
       "    </tr>\n",
       "    <tr>\n",
       "      <th>1042</th>\n",
       "      <td>16:45</td>\n",
       "      <td>None</td>\n",
       "    </tr>\n",
       "    <tr>\n",
       "      <th>1043</th>\n",
       "      <td>Mechelen</td>\n",
       "      <td>None</td>\n",
       "    </tr>\n",
       "    <tr>\n",
       "      <th>1044</th>\n",
       "      <td>40% 60%</td>\n",
       "      <td>None</td>\n",
       "    </tr>\n",
       "  </tbody>\n",
       "</table>\n",
       "<p>1045 rows × 2 columns</p>\n",
       "</div>"
      ],
      "text/plain": [
       "                                             0       dia\n",
       "0                    Saturday 06 January, 2024  Saturday\n",
       "1     Home All Home Team KO Away Team All Away      None\n",
       "2                              National League      None\n",
       "3                                      54% 69%      None\n",
       "4                                 Boreham Wood      None\n",
       "...                                        ...       ...\n",
       "1040                                   50% 50%      None\n",
       "1041                                      Gent      None\n",
       "1042                                     16:45      None\n",
       "1043                                  Mechelen      None\n",
       "1044                                   40% 60%      None\n",
       "\n",
       "[1045 rows x 2 columns]"
      ]
     },
     "execution_count": 10,
     "metadata": {},
     "output_type": "execute_result"
    }
   ],
   "source": [
    "# Aplicar la función para crear una nueva columna 'dia'\n",
    "separar_df_filas['dia'] = separar_df_filas[0].apply(encontrar_dia)\n",
    "separar_df_filas"
   ]
  },
  {
   "cell_type": "code",
   "execution_count": 14,
   "metadata": {},
   "outputs": [
    {
     "data": {
      "text/plain": [
       "dia\n",
       "Saturday     2\n",
       "Sunday       2\n",
       "Monday       2\n",
       "Wednesday    2\n",
       "Thursday     2\n",
       "Tuesday      1\n",
       "Friday       1\n",
       "Name: count, dtype: int64"
      ]
     },
     "execution_count": 14,
     "metadata": {},
     "output_type": "execute_result"
    }
   ],
   "source": [
    "### Verificamos si se crearon los días\n",
    "separar_df_filas['dia'].value_counts()"
   ]
  },
  {
   "cell_type": "markdown",
   "metadata": {},
   "source": [
    "Esta función toma un DataFrame como entrada y devuelve una lista de DataFrames, separados por día. Cada DataFrame en la lista contiene datos correspondientes a un día específico."
   ]
  },
  {
   "cell_type": "code",
   "execution_count": 15,
   "metadata": {},
   "outputs": [],
   "source": [
    "\"\"\"\n",
    "separar_dataframes_por_dia(df)\n",
    "    current_day: Variable que almacena el día actual mientras se recorre el DataFrame.\n",
    "\n",
    "    current_dataframe: Lista que almacena los datos del DataFrame actual correspondientes al día actual.\n",
    "\n",
    "    dataframes: Lista que almacenará los DataFrames separados por día.\n",
    "\n",
    "    Se itera sobre las filas del DataFrame (df.iterrows()), y para cada fila:\n",
    "\n",
    "    Se verifica si el valor en la columna 'day' no es nulo.\n",
    "    Si current_day ya tiene un valor (no es la primera fila), se agrega un nuevo DataFrame a la lista dataframes que contiene los datos recopilados hasta ese momento.\n",
    "    Se actualiza current_day con el valor actual de la columna 'day'.\n",
    "    Se agrega el valor de la columna correspondiente a la lista current_dataframe.\n",
    "    Después de salir del bucle, se verifica nuevamente si current_day tiene un valor, y si es así, se agrega el último DataFrame a la lista dataframes.\n",
    "\n",
    "    La función devuelve la lista dataframes que contiene los DataFrames separados por día.\n",
    "\"\"\"\n",
    "\n",
    "def separar_dataframes_por_dia(df):\n",
    "    current_day = None\n",
    "    current_dataframe = []\n",
    "    dataframes = []\n",
    "\n",
    "    for index, row in df.iterrows():\n",
    "                \n",
    "        if row['dia'] is not None:\n",
    "            if current_day is not None:\n",
    "                dataframes.append(pd.DataFrame(current_dataframe, columns=[0]))\n",
    "                current_dataframe = []\n",
    "            current_day = row['dia']\n",
    "        current_dataframe.append(row[0])\n",
    "\n",
    "    if current_day is not None:\n",
    "        dataframes.append(pd.DataFrame(current_dataframe, columns=[0]))\n",
    "\n",
    "    return dataframes"
   ]
  },
  {
   "cell_type": "code",
   "execution_count": 16,
   "metadata": {},
   "outputs": [
    {
     "name": "stdout",
     "output_type": "stream",
     "text": [
      "12\n"
     ]
    }
   ],
   "source": [
    "dataframes = separar_dataframes_por_dia(separar_df_filas)\n",
    "print(len(dataframes))"
   ]
  },
  {
   "cell_type": "markdown",
   "metadata": {},
   "source": [
    "Trabajaremos con el día actual a modo de ejemplo"
   ]
  },
  {
   "cell_type": "code",
   "execution_count": 28,
   "metadata": {},
   "outputs": [
    {
     "data": {
      "text/html": [
       "<div>\n",
       "<style scoped>\n",
       "    .dataframe tbody tr th:only-of-type {\n",
       "        vertical-align: middle;\n",
       "    }\n",
       "\n",
       "    .dataframe tbody tr th {\n",
       "        vertical-align: top;\n",
       "    }\n",
       "\n",
       "    .dataframe thead th {\n",
       "        text-align: right;\n",
       "    }\n",
       "</style>\n",
       "<table border=\"1\" class=\"dataframe\">\n",
       "  <thead>\n",
       "    <tr style=\"text-align: right;\">\n",
       "      <th></th>\n",
       "      <th>0</th>\n",
       "    </tr>\n",
       "  </thead>\n",
       "  <tbody>\n",
       "    <tr>\n",
       "      <th>0</th>\n",
       "      <td>Monday 08 January, 2024</td>\n",
       "    </tr>\n",
       "    <tr>\n",
       "      <th>1</th>\n",
       "      <td>Home All Home Team KO Away Team All Away</td>\n",
       "    </tr>\n",
       "    <tr>\n",
       "      <th>2</th>\n",
       "      <td>National League</td>\n",
       "    </tr>\n",
       "    <tr>\n",
       "      <th>3</th>\n",
       "      <td>N/A N/A</td>\n",
       "    </tr>\n",
       "    <tr>\n",
       "      <th>4</th>\n",
       "      <td>AFC Fylde</td>\n",
       "    </tr>\n",
       "    <tr>\n",
       "      <th>5</th>\n",
       "      <td>16:45</td>\n",
       "    </tr>\n",
       "    <tr>\n",
       "      <th>6</th>\n",
       "      <td>Hartlepool</td>\n",
       "    </tr>\n",
       "    <tr>\n",
       "      <th>7</th>\n",
       "      <td>65% 69%</td>\n",
       "    </tr>\n",
       "    <tr>\n",
       "      <th>8</th>\n",
       "      <td>31% 35%</td>\n",
       "    </tr>\n",
       "    <tr>\n",
       "      <th>9</th>\n",
       "      <td>Barnet</td>\n",
       "    </tr>\n",
       "    <tr>\n",
       "      <th>10</th>\n",
       "      <td>16:45</td>\n",
       "    </tr>\n",
       "    <tr>\n",
       "      <th>11</th>\n",
       "      <td>Dag and Red</td>\n",
       "    </tr>\n",
       "    <tr>\n",
       "      <th>12</th>\n",
       "      <td>46% 31%</td>\n",
       "    </tr>\n",
       "    <tr>\n",
       "      <th>13</th>\n",
       "      <td>Scottish League 1</td>\n",
       "    </tr>\n",
       "    <tr>\n",
       "      <th>14</th>\n",
       "      <td>11% 28%</td>\n",
       "    </tr>\n",
       "    <tr>\n",
       "      <th>15</th>\n",
       "      <td>Falkirk</td>\n",
       "    </tr>\n",
       "    <tr>\n",
       "      <th>16</th>\n",
       "      <td>16:45</td>\n",
       "    </tr>\n",
       "    <tr>\n",
       "      <th>17</th>\n",
       "      <td>Cove Rangers</td>\n",
       "    </tr>\n",
       "    <tr>\n",
       "      <th>18</th>\n",
       "      <td>56% 67%</td>\n",
       "    </tr>\n",
       "    <tr>\n",
       "      <th>19</th>\n",
       "      <td>Scottish League 2</td>\n",
       "    </tr>\n",
       "  </tbody>\n",
       "</table>\n",
       "</div>"
      ],
      "text/plain": [
       "                                           0\n",
       "0                    Monday 08 January, 2024\n",
       "1   Home All Home Team KO Away Team All Away\n",
       "2                            National League\n",
       "3                                    N/A N/A\n",
       "4                                  AFC Fylde\n",
       "5                                      16:45\n",
       "6                                 Hartlepool\n",
       "7                                    65% 69%\n",
       "8                                    31% 35%\n",
       "9                                     Barnet\n",
       "10                                     16:45\n",
       "11                               Dag and Red\n",
       "12                                   46% 31%\n",
       "13                         Scottish League 1\n",
       "14                                   11% 28%\n",
       "15                                   Falkirk\n",
       "16                                     16:45\n",
       "17                              Cove Rangers\n",
       "18                                   56% 67%\n",
       "19                         Scottish League 2"
      ]
     },
     "execution_count": 28,
     "metadata": {},
     "output_type": "execute_result"
    }
   ],
   "source": [
    "dia_3 = dataframes[2]\n",
    "dia_3.head(20)"
   ]
  },
  {
   "cell_type": "markdown",
   "metadata": {},
   "source": [
    "Utilizamos la misma lógica con las Ligas que con los días"
   ]
  },
  {
   "cell_type": "code",
   "execution_count": 22,
   "metadata": {},
   "outputs": [],
   "source": [
    "# Función para encontrar la Liga en una fila\n",
    "def encontrar_liga(fila):\n",
    "    ligas = ['La Liga', # España\n",
    "            'Segunda Division', # España\n",
    "            'Bundesliga', # Alemania\n",
    "            'Greek Super League', # Grecia\n",
    "            'A League', # Australia\n",
    "            'Serie A', # Italia\n",
    "            'Serie B', # Italia\n",
    "            'Scottish Championship', # Escocia\n",
    "            'Scottish League 1', # Escocia\n",
    "            'Scottish League 2', # Escocia\n",
    "            'SPL', # Escocia\n",
    "            'Portugese Liga NOS', # Portugal\n",
    "            'Turkish Super Lig', # Turkia\n",
    "            'Premier League', # Inglaterra\n",
    "            'League One', # Inglaterra\n",
    "            'League Two', # Inglaterra\n",
    "            'National League', # Inglaterra\n",
    "            'Championship', # Inglaterra\n",
    "            'Ligue 1', # Francia\n",
    "            'Ligue 2', # Francia\n",
    "            'Eredivisie', # Holanda\n",
    "            'Eerste Divisie', # Holanda\n",
    "            'First Division B', # Belgica\n",
    "            'Liga MX', # Mexico\n",
    "            ]\n",
    "    for liga in ligas:\n",
    "        if liga in fila:\n",
    "            return liga\n",
    "    return None"
   ]
  },
  {
   "cell_type": "code",
   "execution_count": 23,
   "metadata": {},
   "outputs": [],
   "source": [
    "def separar_dataframes_por_liga(df):\n",
    "    current_liga = None\n",
    "    current_dataframe = []\n",
    "    listado_ligas = []\n",
    "\n",
    "    for index, row in df.iterrows():\n",
    "        if row['Liga'] is not None:\n",
    "            if current_liga is not None:\n",
    "                listado_ligas.append(pd.DataFrame(current_dataframe, columns=[0]))\n",
    "                current_dataframe = []\n",
    "            current_liga = row['Liga']\n",
    "        current_dataframe.append(row[0])\n",
    "\n",
    "    if current_liga is not None:\n",
    "        listado_ligas.append(pd.DataFrame(current_dataframe, columns=[0]))\n",
    "\n",
    "    return listado_ligas"
   ]
  },
  {
   "cell_type": "code",
   "execution_count": 24,
   "metadata": {},
   "outputs": [],
   "source": [
    "### Función que elimina el encabezado y obtiene el día del partido\n",
    "def obtener_ligas_por_dia(dataframe):\n",
    "    dia_partido = dataframe[0].iloc[:1][0]\n",
    "    partidos = dataframe[1:]\n",
    "    partidos['Liga'] = partidos[0].apply(encontrar_liga)\n",
    "    partidos = partidos.iloc[1:]\n",
    "\n",
    "    listado_ligas = separar_dataframes_por_liga(partidos)\n",
    "    \n",
    "    return listado_ligas, dia_partido"
   ]
  },
  {
   "cell_type": "code",
   "execution_count": 34,
   "metadata": {},
   "outputs": [],
   "source": [
    "### Función que elimina el encabezado y obtiene la Liga del partido\n",
    "def obtener_nombre_liga(dataframes):\n",
    "    liga_actual = dataframes.iloc[:1]\n",
    "    liga_actual_valor = liga_actual.loc[0, 0]\n",
    "    return liga_actual_valor"
   ]
  },
  {
   "cell_type": "code",
   "execution_count": 33,
   "metadata": {},
   "outputs": [
    {
     "name": "stdout",
     "output_type": "stream",
     "text": [
      "Monday 08 January, 2024\n",
      "4\n"
     ]
    }
   ],
   "source": [
    "### Función que separa las ligas del día en diferentes dataframes\n",
    "ligas, dia_partido = obtener_ligas_por_dia(dia_3)\n",
    "print(dia_partido)\n",
    "print(len(ligas))"
   ]
  },
  {
   "cell_type": "code",
   "execution_count": 31,
   "metadata": {},
   "outputs": [
    {
     "data": {
      "text/html": [
       "<div>\n",
       "<style scoped>\n",
       "    .dataframe tbody tr th:only-of-type {\n",
       "        vertical-align: middle;\n",
       "    }\n",
       "\n",
       "    .dataframe tbody tr th {\n",
       "        vertical-align: top;\n",
       "    }\n",
       "\n",
       "    .dataframe thead th {\n",
       "        text-align: right;\n",
       "    }\n",
       "</style>\n",
       "<table border=\"1\" class=\"dataframe\">\n",
       "  <thead>\n",
       "    <tr style=\"text-align: right;\">\n",
       "      <th></th>\n",
       "      <th>0</th>\n",
       "    </tr>\n",
       "  </thead>\n",
       "  <tbody>\n",
       "    <tr>\n",
       "      <th>0</th>\n",
       "      <td>Scottish League 1</td>\n",
       "    </tr>\n",
       "    <tr>\n",
       "      <th>1</th>\n",
       "      <td>11% 28%</td>\n",
       "    </tr>\n",
       "    <tr>\n",
       "      <th>2</th>\n",
       "      <td>Falkirk</td>\n",
       "    </tr>\n",
       "    <tr>\n",
       "      <th>3</th>\n",
       "      <td>16:45</td>\n",
       "    </tr>\n",
       "    <tr>\n",
       "      <th>4</th>\n",
       "      <td>Cove Rangers</td>\n",
       "    </tr>\n",
       "    <tr>\n",
       "      <th>5</th>\n",
       "      <td>56% 67%</td>\n",
       "    </tr>\n",
       "  </tbody>\n",
       "</table>\n",
       "</div>"
      ],
      "text/plain": [
       "                   0\n",
       "0  Scottish League 1\n",
       "1            11% 28%\n",
       "2            Falkirk\n",
       "3              16:45\n",
       "4       Cove Rangers\n",
       "5            56% 67%"
      ]
     },
     "execution_count": 31,
     "metadata": {},
     "output_type": "execute_result"
    }
   ],
   "source": [
    "ligas[1]"
   ]
  },
  {
   "cell_type": "markdown",
   "metadata": {},
   "source": [
    "Creamos una función que itera cada 5 filas para recrear la página donde se obtuvieron los datos"
   ]
  },
  {
   "cell_type": "code",
   "execution_count": 35,
   "metadata": {},
   "outputs": [],
   "source": [
    "def crear_data(lista_partidos):\n",
    "    \n",
    "    liga_actual_valor = obtener_nombre_liga(lista_partidos)\n",
    "    \n",
    "    ### Eliminamos el nombre de la liga dado que ya lo obtuvimos\n",
    "    lista_partidos = lista_partidos[1:]\n",
    "    \n",
    "    # Calcular el número de filas en el DataFrame\n",
    "    num_filas = len(lista_partidos)\n",
    "    # Calcular el número de grupos de datos (en este caso, 4 columnas)\n",
    "    num_grupos = num_filas // 5\n",
    "    \n",
    "    data = {}\n",
    "\n",
    "    # Iterar sobre los grupos de datos y dividirlos en las columnas correspondientes\n",
    "    for i in range(num_grupos):\n",
    "        fila_inicio = i * 5\n",
    "        home_ida_vuelta = lista_partidos.iloc[fila_inicio, 0]\n",
    "        equipo1 = lista_partidos.iloc[fila_inicio + 1, 0]\n",
    "        hora = lista_partidos.iloc[fila_inicio + 2, 0]\n",
    "        equipo2 = lista_partidos.iloc[fila_inicio + 3, 0]\n",
    "        away_vuelta_ida = lista_partidos.iloc[fila_inicio + 4, 0]\n",
    "        \n",
    "        data.update({'home_ida_vuelta': data.get('home_ida_vuelta', []) + [home_ida_vuelta],\n",
    "                    'Equipo 1': data.get('Equipo 1', []) + [equipo1],\n",
    "                    'Hora': data.get('Hora', []) + [hora],\n",
    "                    'Equipo 2': data.get('Equipo 2', []) + [equipo2],\n",
    "                    'away_vuelta_ida': data.get('away_vuelta_ida', []) + [away_vuelta_ida]\n",
    "                    })\n",
    "    \n",
    "    # Crear el dataframe a partir del diccionario\n",
    "    new_df = pd.DataFrame(data)\n",
    "    new_df[['Local_ida', 'Local_vuelta']] = new_df['home_ida_vuelta'].str.split(' ', expand=True)\n",
    "    new_df[['Visita_ida', 'Visita_vuelta']] = new_df['away_vuelta_ida'].str.split(' ', expand=True)\n",
    "    new_df = new_df.drop(['home_ida_vuelta','away_vuelta_ida'], axis=1)\n",
    "    new_df = new_df[['Local_ida', 'Local_vuelta','Equipo 1', 'Hora', 'Equipo 2', 'Visita_ida', 'Visita_vuelta']]\n",
    "    new_df['Liga'] = liga_actual_valor\n",
    "    \n",
    "    return new_df"
   ]
  },
  {
   "cell_type": "markdown",
   "metadata": {},
   "source": [
    "Debemos juntar los dataframes en uno solo"
   ]
  },
  {
   "cell_type": "code",
   "execution_count": 36,
   "metadata": {},
   "outputs": [
    {
     "data": {
      "text/html": [
       "<div>\n",
       "<style scoped>\n",
       "    .dataframe tbody tr th:only-of-type {\n",
       "        vertical-align: middle;\n",
       "    }\n",
       "\n",
       "    .dataframe tbody tr th {\n",
       "        vertical-align: top;\n",
       "    }\n",
       "\n",
       "    .dataframe thead th {\n",
       "        text-align: right;\n",
       "    }\n",
       "</style>\n",
       "<table border=\"1\" class=\"dataframe\">\n",
       "  <thead>\n",
       "    <tr style=\"text-align: right;\">\n",
       "      <th></th>\n",
       "      <th>Local_ida</th>\n",
       "      <th>Local_vuelta</th>\n",
       "      <th>Equipo 1</th>\n",
       "      <th>Hora</th>\n",
       "      <th>Equipo 2</th>\n",
       "      <th>Visita_ida</th>\n",
       "      <th>Visita_vuelta</th>\n",
       "      <th>Liga</th>\n",
       "      <th>Día Partido</th>\n",
       "    </tr>\n",
       "  </thead>\n",
       "  <tbody>\n",
       "    <tr>\n",
       "      <th>0</th>\n",
       "      <td>N/A</td>\n",
       "      <td>N/A</td>\n",
       "      <td>AFC Fylde</td>\n",
       "      <td>16:45</td>\n",
       "      <td>Hartlepool</td>\n",
       "      <td>65%</td>\n",
       "      <td>69%</td>\n",
       "      <td>National League</td>\n",
       "      <td>Monday 08 January, 2024</td>\n",
       "    </tr>\n",
       "    <tr>\n",
       "      <th>1</th>\n",
       "      <td>31%</td>\n",
       "      <td>35%</td>\n",
       "      <td>Barnet</td>\n",
       "      <td>16:45</td>\n",
       "      <td>Dag and Red</td>\n",
       "      <td>46%</td>\n",
       "      <td>31%</td>\n",
       "      <td>National League</td>\n",
       "      <td>Monday 08 January, 2024</td>\n",
       "    </tr>\n",
       "    <tr>\n",
       "      <th>2</th>\n",
       "      <td>11%</td>\n",
       "      <td>28%</td>\n",
       "      <td>Falkirk</td>\n",
       "      <td>16:45</td>\n",
       "      <td>Cove Rangers</td>\n",
       "      <td>56%</td>\n",
       "      <td>67%</td>\n",
       "      <td>Scottish League 1</td>\n",
       "      <td>Monday 08 January, 2024</td>\n",
       "    </tr>\n",
       "    <tr>\n",
       "      <th>3</th>\n",
       "      <td>25%</td>\n",
       "      <td>41%</td>\n",
       "      <td>Peterhead</td>\n",
       "      <td>16:45</td>\n",
       "      <td>Dumbarton</td>\n",
       "      <td>31%</td>\n",
       "      <td>29%</td>\n",
       "      <td>Scottish League 2</td>\n",
       "      <td>Monday 08 January, 2024</td>\n",
       "    </tr>\n",
       "    <tr>\n",
       "      <th>4</th>\n",
       "      <td>50%</td>\n",
       "      <td>61%</td>\n",
       "      <td>Pendikspor</td>\n",
       "      <td>11:00</td>\n",
       "      <td>Antalyaspor</td>\n",
       "      <td>50%</td>\n",
       "      <td>75%</td>\n",
       "      <td>Turkish Super Lig</td>\n",
       "      <td>Monday 08 January, 2024</td>\n",
       "    </tr>\n",
       "    <tr>\n",
       "      <th>5</th>\n",
       "      <td>44%</td>\n",
       "      <td>39%</td>\n",
       "      <td>Alanyaspor</td>\n",
       "      <td>11:00</td>\n",
       "      <td>Ankaragucu</td>\n",
       "      <td>50%</td>\n",
       "      <td>63%</td>\n",
       "      <td>Turkish Super Lig</td>\n",
       "      <td>Monday 08 January, 2024</td>\n",
       "    </tr>\n",
       "    <tr>\n",
       "      <th>6</th>\n",
       "      <td>56%</td>\n",
       "      <td>56%</td>\n",
       "      <td>Kasimpasa</td>\n",
       "      <td>14:00</td>\n",
       "      <td>Buyuksehyr</td>\n",
       "      <td>56%</td>\n",
       "      <td>56%</td>\n",
       "      <td>Turkish Super Lig</td>\n",
       "      <td>Monday 08 January, 2024</td>\n",
       "    </tr>\n",
       "    <tr>\n",
       "      <th>7</th>\n",
       "      <td>33%</td>\n",
       "      <td>56%</td>\n",
       "      <td>Rizespor</td>\n",
       "      <td>14:00</td>\n",
       "      <td>Besiktas</td>\n",
       "      <td>44%</td>\n",
       "      <td>56%</td>\n",
       "      <td>Turkish Super Lig</td>\n",
       "      <td>Monday 08 January, 2024</td>\n",
       "    </tr>\n",
       "  </tbody>\n",
       "</table>\n",
       "</div>"
      ],
      "text/plain": [
       "  Local_ida Local_vuelta    Equipo 1     Hora       Equipo 2 Visita_ida   \n",
       "0       N/A          N/A   AFC Fylde    16:45     Hartlepool        65%  \\\n",
       "1       31%          35%      Barnet    16:45    Dag and Red        46%   \n",
       "2       11%          28%     Falkirk    16:45   Cove Rangers        56%   \n",
       "3       25%          41%   Peterhead    16:45      Dumbarton        31%   \n",
       "4       50%          61%  Pendikspor    11:00    Antalyaspor        50%   \n",
       "5       44%          39%  Alanyaspor    11:00     Ankaragucu        50%   \n",
       "6       56%          56%   Kasimpasa    14:00     Buyuksehyr        56%   \n",
       "7       33%          56%    Rizespor    14:00       Besiktas        44%   \n",
       "\n",
       "  Visita_vuelta               Liga              Día Partido  \n",
       "0           69%    National League  Monday 08 January, 2024  \n",
       "1           31%    National League  Monday 08 January, 2024  \n",
       "2           67%  Scottish League 1  Monday 08 January, 2024  \n",
       "3           29%  Scottish League 2  Monday 08 January, 2024  \n",
       "4           75%  Turkish Super Lig  Monday 08 January, 2024  \n",
       "5           63%  Turkish Super Lig  Monday 08 January, 2024  \n",
       "6           56%  Turkish Super Lig  Monday 08 January, 2024  \n",
       "7           56%  Turkish Super Lig  Monday 08 January, 2024  "
      ]
     },
     "execution_count": 36,
     "metadata": {},
     "output_type": "execute_result"
    }
   ],
   "source": [
    "df_consolidado_ligas = pd.DataFrame()\n",
    "for i in range(len(ligas)):\n",
    "    #print(ligas[i])\n",
    "    df = ligas[i]\n",
    "    df_liga = crear_data(df)\n",
    "    df_liga['Día Partido'] = dia_partido\n",
    "    df_consolidado_ligas = pd.concat([df_consolidado_ligas, df_liga], ignore_index=True)\n",
    "\n",
    "df_consolidado_ligas"
   ]
  },
  {
   "cell_type": "markdown",
   "metadata": {},
   "source": [
    "Listo, hemos limpiado la data y obtenido el resultado esperado, además hemos agregado un filtro para la Liga y Día de Partido.\n",
    "Por último, debemos guardar el archivo en nuestra carpeta output"
   ]
  },
  {
   "cell_type": "code",
   "execution_count": 39,
   "metadata": {},
   "outputs": [],
   "source": [
    "df_consolidado_ligas.to_excel(f\"output\\Estadisticas_goles_primer_tiempo_{fecha}.xlsx\", index= False)"
   ]
  }
 ],
 "metadata": {
  "kernelspec": {
   "display_name": "Python 3",
   "language": "python",
   "name": "python3"
  },
  "language_info": {
   "codemirror_mode": {
    "name": "ipython",
    "version": 3
   },
   "file_extension": ".py",
   "mimetype": "text/x-python",
   "name": "python",
   "nbconvert_exporter": "python",
   "pygments_lexer": "ipython3",
   "version": "3.8.10"
  }
 },
 "nbformat": 4,
 "nbformat_minor": 2
}
