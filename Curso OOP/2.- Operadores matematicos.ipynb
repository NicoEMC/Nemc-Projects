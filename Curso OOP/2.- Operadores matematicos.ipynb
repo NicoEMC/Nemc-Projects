{
 "cells": [
  {
   "cell_type": "code",
   "execution_count": 1,
   "id": "683cb479",
   "metadata": {},
   "outputs": [
    {
     "name": "stdout",
     "output_type": "stream",
     "text": [
      "resultado suma: 7\n",
      "resultado suma: 7\n"
     ]
    }
   ],
   "source": [
    "sumando1 = 3\n",
    "sumando2 = 4\n",
    "suma = sumando1 + sumando2\n",
    "\n",
    "print(\"resultado suma:\",suma)\n",
    "print(f\"resultado suma: {suma}\")"
   ]
  },
  {
   "cell_type": "code",
   "execution_count": 2,
   "id": "a10d61a0",
   "metadata": {},
   "outputs": [
    {
     "name": "stdout",
     "output_type": "stream",
     "text": [
      "resultado resta: -5\n",
      "-------------------------\n",
      "resultado multiplicacion: 50\n",
      "-------------------------\n",
      "resultado division: 0.5\n",
      "-------------------------\n",
      "resultado division: 0\n",
      "-------------------------\n",
      "resultado residuo o modulo: 1\n",
      "-------------------------\n",
      "resultado exponente: 9\n",
      "-------------------------\n"
     ]
    }
   ],
   "source": [
    "oper1 = 5\n",
    "oper2 = 10\n",
    "\n",
    "resta = oper1 - oper2\n",
    "print(f\"resultado resta: {resta}\")\n",
    "print(\"-------------------------\")\n",
    "\n",
    "multiplicacion =  oper1 * oper2\n",
    "print(f\"resultado multiplicacion: {multiplicacion}\")\n",
    "print(\"-------------------------\")\n",
    "\n",
    "division = oper1 / oper2\n",
    "print(f\"resultado division: {division}\")\n",
    "print(\"-------------------------\")\n",
    "\n",
    "division_entero = oper1 // oper2\n",
    "print(f\"resultado division: {division_entero}\")\n",
    "print(\"-------------------------\")\n",
    "\n",
    "oper1, oper2 = 3,2\n",
    "modulo = oper1 % oper2\n",
    "print(f\"resultado residuo o modulo: {modulo}\")\n",
    "print(\"-------------------------\")\n",
    "\n",
    "exponente = oper1 ** oper2\n",
    "print(f\"resultado exponente: {exponente}\")\n",
    "print(\"-------------------------\")"
   ]
  },
  {
   "cell_type": "code",
   "execution_count": 11,
   "id": "e2108767",
   "metadata": {},
   "outputs": [
    {
     "ename": "SyntaxError",
     "evalue": "invalid character in identifier (<ipython-input-11-10a24aadef66>, line 2)",
     "output_type": "error",
     "traceback": [
      "\u001b[1;36m  File \u001b[1;32m\"<ipython-input-11-10a24aadef66>\"\u001b[1;36m, line \u001b[1;32m2\u001b[0m\n\u001b[1;33m    ancho = int(input(\"Proporciona el ancho: \"))\u001b[0m\n\u001b[1;37m              ^\u001b[0m\n\u001b[1;31mSyntaxError\u001b[0m\u001b[1;31m:\u001b[0m invalid character in identifier\n"
     ]
    }
   ],
   "source": [
    "######## bug\n",
    "\n",
    "alto = int(input(\"Proporciona el alto: \"))\n",
    "ancho = int(input(\"Proporciona el ancho: \"))\n",
    "\n",
    "area = alto * ancho\n",
    "\n",
    "perimetro = (alto + ancho) * 2\n",
    "\n",
    "print(f\"el Area del triangulo es: {area}\")\n",
    "\n",
    "print(f\"el Perímetro del triangulo es: {perimetro}\")"
   ]
  },
  {
   "cell_type": "code",
   "execution_count": 10,
   "id": "91a95c21",
   "metadata": {},
   "outputs": [
    {
     "name": "stdout",
     "output_type": "stream",
     "text": [
      "Proporciona el alto del rectángulo:5\n",
      "Proporciona el ancho del rectángulo:6\n",
      "Área: 30\n",
      "Perímetro: 22\n"
     ]
    }
   ],
   "source": [
    "alto = int(input(\"Proporciona el alto del rectángulo:\"))\n",
    "ancho = int(input(\"Proporciona el ancho del rectángulo:\"))\n",
    "     \n",
    "area = alto * ancho\n",
    "perimetro = (alto + ancho) * 2\n",
    "print(\"Área:\", area)\n",
    "print(\"Perímetro:\", perimetro)"
   ]
  },
  {
   "cell_type": "code",
   "execution_count": 8,
   "id": "e9026ad7",
   "metadata": {},
   "outputs": [
    {
     "name": "stdout",
     "output_type": "stream",
     "text": [
      "Proporciona el alto del rectángulo:5\n",
      "Proporciona el ancho del rectángulo:100\n",
      "Área: 500\n",
      "Perímetro: 210\n"
     ]
    }
   ],
   "source": [
    "alto = int(input(\"Proporciona el alto del rectángulo:\"))\n",
    "ancho = int(input(\"Proporciona el ancho del rectángulo:\"))\n",
    "     \n",
    "area = alto * ancho;\n",
    "perimetro = (alto + ancho) * 2;\n",
    "print(\"Área:\", area);\n",
    "print(\"Perímetro:\", perimetro);"
   ]
  },
  {
   "cell_type": "code",
   "execution_count": 19,
   "id": "ed3eb848",
   "metadata": {},
   "outputs": [
    {
     "name": "stdout",
     "output_type": "stream",
     "text": [
      "20\n"
     ]
    }
   ],
   "source": [
    "var1 = 10 \n",
    "var1 = var1 + 10\n",
    "print(var1)"
   ]
  },
  {
   "cell_type": "code",
   "execution_count": 20,
   "id": "6f7e9f34",
   "metadata": {},
   "outputs": [
    {
     "name": "stdout",
     "output_type": "stream",
     "text": [
      "21\n"
     ]
    }
   ],
   "source": [
    "var1 += 1 \n",
    "print(var1)"
   ]
  },
  {
   "cell_type": "code",
   "execution_count": 21,
   "id": "17326948",
   "metadata": {},
   "outputs": [
    {
     "name": "stdout",
     "output_type": "stream",
     "text": [
      "11\n"
     ]
    }
   ],
   "source": [
    "var1 -= 10\n",
    "print(var1)"
   ]
  },
  {
   "cell_type": "code",
   "execution_count": 22,
   "id": "45bebf7b",
   "metadata": {},
   "outputs": [
    {
     "name": "stdout",
     "output_type": "stream",
     "text": [
      "33\n"
     ]
    }
   ],
   "source": [
    "var1 *= 3\n",
    "print(var1)"
   ]
  },
  {
   "cell_type": "code",
   "execution_count": 23,
   "id": "f22880a9",
   "metadata": {},
   "outputs": [
    {
     "name": "stdout",
     "output_type": "stream",
     "text": [
      "11\n"
     ]
    }
   ],
   "source": [
    "var1 /= 3\n",
    "print(int(var1))"
   ]
  },
  {
   "cell_type": "code",
   "execution_count": null,
   "id": "2dbe82cb",
   "metadata": {},
   "outputs": [],
   "source": []
  }
 ],
 "metadata": {
  "kernelspec": {
   "display_name": "Python 3",
   "language": "python",
   "name": "python3"
  },
  "language_info": {
   "codemirror_mode": {
    "name": "ipython",
    "version": 3
   },
   "file_extension": ".py",
   "mimetype": "text/x-python",
   "name": "python",
   "nbconvert_exporter": "python",
   "pygments_lexer": "ipython3",
   "version": "3.8.8"
  }
 },
 "nbformat": 4,
 "nbformat_minor": 5
}
