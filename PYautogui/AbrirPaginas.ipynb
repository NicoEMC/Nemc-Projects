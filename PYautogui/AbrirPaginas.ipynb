{
 "cells": [
  {
   "cell_type": "markdown",
   "metadata": {},
   "source": [
    "# Pyautogui\n",
    "* Abrir páginas\n",
    "* Mover Mouse\n",
    "* Hacer click\n",
    "* Escribir en pantalla"
   ]
  },
  {
   "cell_type": "code",
   "execution_count": 2,
   "metadata": {},
   "outputs": [],
   "source": [
    "import keyboard\n",
    "import pyautogui as pa\n",
    "import random"
   ]
  },
  {
   "cell_type": "code",
   "execution_count": null,
   "metadata": {},
   "outputs": [],
   "source": [
    "print(pa.size())"
   ]
  },
  {
   "cell_type": "code",
   "execution_count": 4,
   "metadata": {},
   "outputs": [],
   "source": [
    "## print(pa.size())   -- imprimir tamaño pantalla\n",
    "## Size(width=1920, height=1080)   -- out\n",
    "\n",
    "## https://www.youtube.com/watch?v=ukBP__lkTrU\n",
    "\n",
    "\n",
    "## print(pa.position())   -- imprimir ubicacion\n",
    "## pa.moveTo(x=960, y=490)  -- mover mouse\n",
    "\n",
    "#pa.click(x=299 , y=763)\n",
    "#pa.typewrite('Hola bb')\n",
    "\n",
    "#print(pa.position()) \n",
    "\n",
    "import webbrowser\n",
    "\n",
    "urls = ['https://www.youtube.com/',]\n",
    "\n",
    "aux = 0\n",
    "for x in urls:\n",
    "    webbrowser.register('firefox', None, webbrowser.BackgroundBrowser(\n",
    "        \"C://Program Files//Mozilla Firefox//firefox.exe\"))\n",
    "    \n",
    "\n",
    "    webbrowser.get('firefox').open(urls[aux])\n",
    "    aux += 1\n",
    "\n",
    "pa.moveTo(x=591, y=141,duration=3)\n",
    "pa.click(x=591, y=141,interval=5)\n",
    "pa.typewrite('PJ Ladd Vs Paul Rodriguez: BATB6 - Championship Battle')\n",
    "pa.click(x=1262, y=141,interval=3)\n",
    "pa.click(x=969, y=283,interval=5)"
   ]
  },
  {
   "cell_type": "markdown",
   "metadata": {},
   "source": []
  },
  {
   "cell_type": "code",
   "execution_count": null,
   "metadata": {},
   "outputs": [],
   "source": []
  }
 ],
 "metadata": {
  "kernelspec": {
   "display_name": "Python 3.8.8 ('base')",
   "language": "python",
   "name": "python3"
  },
  "language_info": {
   "codemirror_mode": {
    "name": "ipython",
    "version": 3
   },
   "file_extension": ".py",
   "mimetype": "text/x-python",
   "name": "python",
   "nbconvert_exporter": "python",
   "pygments_lexer": "ipython3",
   "version": "3.8.8"
  },
  "orig_nbformat": 4,
  "vscode": {
   "interpreter": {
    "hash": "6ff7a7c4aaccde070f5a342f62c3a41c83453cc4c5fe960915e0539e93087f04"
   }
  }
 },
 "nbformat": 4,
 "nbformat_minor": 2
}
